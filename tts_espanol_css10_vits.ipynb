{
 "cells": [
  {
   "cell_type": "code",
   "execution_count": null,
   "id": "e43e4e61",
   "metadata": {},
   "outputs": [],
   "source": [
    "# 🔊 Generador de voz TTS en español (modelo open source)\n",
    "\n",
    "!pip install TTS==0.18.0 soundfile\n"
   ]
  },
  {
   "cell_type": "code",
   "execution_count": null,
   "id": "f462601d",
   "metadata": {},
   "outputs": [],
   "source": [
    "from TTS.api import TTS\n",
    "import IPython.display as ipd"
   ]
  },
  {
   "cell_type": "code",
   "execution_count": null,
   "id": "d83693a3",
   "metadata": {},
   "outputs": [],
   "source": [
    "# Cargar modelo específico en español\n",
    "tts = TTS(model_name=\"tts_models/es/css10/vits\", progress_bar=False, gpu=False)"
   ]
  },
  {
   "cell_type": "code",
   "execution_count": null,
   "id": "34541a3e",
   "metadata": {},
   "outputs": [],
   "source": [
    "# Texto de ejemplo en español\n",
    "texto = \"\"\"Hola, este es un ejemplo de locución en español usando un modelo 100% open source,\n",
    "sin necesidad de claves ni pagos de ningún tipo. Puedes descargar este audio y usarlo como quieras.\"\"\""
   ]
  },
  {
   "cell_type": "code",
   "execution_count": null,
   "id": "fe0cc45e",
   "metadata": {},
   "outputs": [],
   "source": [
    "# Generar y guardar audio\n",
    "tts.tts_to_file(text=texto, file_path=\"voz_espanol.wav\")"
   ]
  },
  {
   "cell_type": "code",
   "execution_count": null,
   "id": "97fe4825",
   "metadata": {},
   "outputs": [],
   "source": [
    "# Reproducir audio\n",
    "ipd.Audio(\"voz_espanol.wav\")"
   ]
  }
 ],
 "metadata": {},
 "nbformat": 4,
 "nbformat_minor": 5
}
